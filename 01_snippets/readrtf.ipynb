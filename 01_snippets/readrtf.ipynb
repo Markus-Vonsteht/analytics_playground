{
 "cells": [
  {
   "cell_type": "code",
   "execution_count": 1,
   "id": "e88e23b9",
   "metadata": {},
   "outputs": [
    {
     "name": "stdout",
     "output_type": "stream",
     "text": [
      "Was ist eine RTF-Datei?\n",
      "Eine RTF-Datei enthält formatierten Text und kann folgende Elemente beinhalten:\n",
      "Verschiedene Schriftarten und Schriftgrößen\n",
      "Fett, Kursiv, Unterstrichen\n",
      "Absätze, Listen, Tabellen\n",
      "Einfache Grafiken und Bilder\n",
      "RTF-Dateien sind plattformunabhängig, das bedeutet, sie können sowohl auf Windows als auch auf MacOS und anderen Betriebssystemen geöffnet und bearbeitet werden.\n",
      "Erstellung einer RTF-Datei\n",
      "RTF Dateien können Sie mit verschiedenen Programmen erstellen und bearbeiten, darunter auch einige kostenlose Schreibprogramme bzw. Textverarbeitungsprogramme.\n",
      "Mit Microsoft Word\n",
      "Öffnen Sie Microsoft Word.\n",
      "Erstellen Sie ein neues Dokument oder öffnen Sie ein bestehendes.\n",
      "Formatieren Sie Ihren Text nach Wunsch (Schriftart, Schriftgröße, Farbe, Absätze, etc.).\n",
      "Klicken Sie auf „Datei“.\n",
      "Wählen Sie „Speichern unter“.\n",
      "Wählen Sie im Dropdown-Menü „Dateityp“ die Option „Rich Text Format (*.rtf)“.\n",
      "Geben Sie einen Dateinamen ein und klicken Sie auf „Speichern“.\n",
      "\n",
      "\n"
     ]
    }
   ],
   "source": [
    "\n",
    "from striprtf.striprtf import rtf_to_text\n",
    "\n",
    "with open(\"blablubb.rtf\", \"r\", encoding=\"utf-8\") as file:\n",
    "    rtf_content = file.read()\n",
    "\n",
    "plain_text = rtf_to_text(rtf_content)\n",
    "print(plain_text)\n"
   ]
  }
 ],
 "metadata": {
  "kernelspec": {
   "display_name": "analytics",
   "language": "python",
   "name": "python3"
  },
  "language_info": {
   "codemirror_mode": {
    "name": "ipython",
    "version": 3
   },
   "file_extension": ".py",
   "mimetype": "text/x-python",
   "name": "python",
   "nbconvert_exporter": "python",
   "pygments_lexer": "ipython3",
   "version": "3.10.12"
  }
 },
 "nbformat": 4,
 "nbformat_minor": 5
}
